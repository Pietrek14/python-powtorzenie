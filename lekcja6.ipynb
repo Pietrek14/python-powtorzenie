{
 "cells": [
  {
   "cell_type": "markdown",
   "metadata": {},
   "source": [
    "Rekurencja"
   ]
  },
  {
   "cell_type": "code",
   "execution_count": 2,
   "metadata": {},
   "outputs": [
    {
     "name": "stdout",
     "output_type": "stream",
     "text": [
      "120\n"
     ]
    }
   ],
   "source": [
    "def silnia_iter(n):\n",
    "   \"\"\"Obliczanie silni iteracyjnie\"\"\"\n",
    "   silnia_tmp=1 #zmienna pomocnicza\n",
    "   if n in (0,1):  #gdy n = 0 lub 1 zwroc 1\n",
    "       return 1\n",
    "   else:\n",
    "       for i in range(2,n+1):  #gdy n>1 mnoz przez kolejne \n",
    "                               #liczby od 2 do n\n",
    "           silnia_tmp = silnia_tmp*i\n",
    "   return silnia_tmp\n",
    "print silnia_iter(5)"
   ]
  },
  {
   "cell_type": "code",
   "execution_count": 4,
   "metadata": {},
   "outputs": [
    {
     "data": {
      "text/plain": [
       "720"
      ]
     },
     "execution_count": 4,
     "metadata": {},
     "output_type": "execute_result"
    }
   ],
   "source": [
    "def silnia_rek(n):\n",
    "  \"\"\"Obliczanie silni rekurencyjnie\"\"\"\n",
    "  if n>1:\n",
    "     return n*silnia_rek(n-1)    #wywolanie rekurencyjne funkcji\n",
    "  elif n in (0,1):\n",
    "     return 1\n",
    "silnia_rek(6)"
   ]
  },
  {
   "cell_type": "code",
   "execution_count": 5,
   "metadata": {},
   "outputs": [],
   "source": [
    "def NWD(x,y):\n",
    "  \"\"\"Szukanie najwyzszego wspolnego dzielnika\"\"\"\n",
    "  while x<>y:\n",
    "      if x>y:\n",
    "         x=x-y\n",
    "      else:\n",
    "         y=y-x\n",
    "  print \"NWD \"+str(x)\n",
    "\n",
    "def NWD_rekurencyjnie(x,y):\n",
    "  \"\"\"Szukanie najwyzszego wspolnego dzielnika \n",
    "  metoda rekurencyjna\"\"\"\n",
    "  print x,y\n",
    "  if x==y:\n",
    "     print x\n",
    "     return x\n",
    "  if x>y:\n",
    "     NWD_rekurencyjnie(x-y,y)\n",
    "  else:\n",
    "     NWD_rekurencyjnie(x,y-x)"
   ]
  },
  {
   "cell_type": "code",
   "execution_count": 6,
   "metadata": {},
   "outputs": [],
   "source": [
    "import turtle\n",
    "turtle.forward(100)"
   ]
  },
  {
   "cell_type": "code",
   "execution_count": 7,
   "metadata": {},
   "outputs": [],
   "source": [
    "turtle.left(90)"
   ]
  },
  {
   "cell_type": "code",
   "execution_count": 8,
   "metadata": {},
   "outputs": [],
   "source": [
    "turtle.forward(100)"
   ]
  },
  {
   "cell_type": "code",
   "execution_count": 1,
   "metadata": {},
   "outputs": [],
   "source": [
    "import turtle\n",
    "t=turtle.Turtle()\n",
    "for i in range(4):\n",
    "    t.forward(100)\n",
    "    t.left(90)\n",
    "    "
   ]
  },
  {
   "cell_type": "code",
   "execution_count": 4,
   "metadata": {},
   "outputs": [],
   "source": [
    "import turtle\n",
    "t1=turtle.Turtle()\n",
    "t2=turtle.Turtle()\n",
    "t1.color(\"red\")\n",
    "t1.forward(100)\n",
    "t2.left(90)\n",
    "t2.forward(100)"
   ]
  },
  {
   "cell_type": "code",
   "execution_count": 1,
   "metadata": {},
   "outputs": [],
   "source": [
    "import turtle\n",
    "import random\n",
    "\n",
    "a = 150 # bok ringu\n",
    "\n",
    "prost = turtle.Turtle()\n",
    "prost.penup()\n",
    "prost.goto(-a, -a)\n",
    "prost.pendown()\n",
    "prost.goto(-a, a)\n",
    "prost.goto(a, a)\n",
    "prost.goto(a, -a)\n",
    "prost.goto(-a, -a)\n",
    "#prost.hideturtle()\n",
    "\n",
    "t1 = turtle.Turtle()\n",
    "t1.speed(\"fastest\")\n",
    "t1.color(\"red\")\n",
    "\n",
    "t2 = turtle.Turtle()\n",
    "t2.speed(\"fastest\")\n",
    "\n",
    "while(1):     \n",
    "     kat = random.randrange(0, 360)\n",
    "     t1.left(kat)\n",
    "     x = random.randrange(5, 15)\n",
    "     t1.forward(x)\n",
    "\n",
    "     kat = random.randrange(0, 360)\n",
    "     t2.left(kat)\n",
    "     x = random.randrange(5, 15)\n",
    "     t2.forward(x)\n",
    "\n",
    "     (x1, y1) = t1.pos()\n",
    "     (x2, y2) = t2.pos()\n",
    "\n",
    "     if ((abs(x1) > a) or (abs(y1) > a)) :\n",
    "               t1.getpen().write(\"wygralem\")\n",
    "               break    \n",
    "     if ((abs(x2) > a) or (abs(y2) > a)) :\n",
    "               t2.getpen().write(\"nie przegralem leszcu!\")\n",
    "               break    \n",
    "\n",
    "turtle.exitonclick()\n"
   ]
  },
  {
   "cell_type": "code",
   "execution_count": null,
   "metadata": {},
   "outputs": [],
   "source": []
  }
 ],
 "metadata": {
  "kernelspec": {
   "display_name": "Python 2",
   "language": "python",
   "name": "python2"
  },
  "language_info": {
   "codemirror_mode": {
    "name": "ipython",
    "version": 2
   },
   "file_extension": ".py",
   "mimetype": "text/x-python",
   "name": "python",
   "nbconvert_exporter": "python",
   "pygments_lexer": "ipython2",
   "version": "2.7.15"
  }
 },
 "nbformat": 4,
 "nbformat_minor": 2
}
